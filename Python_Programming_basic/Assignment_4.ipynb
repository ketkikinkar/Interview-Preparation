{
 "cells": [
  {
   "cell_type": "code",
   "execution_count": 6,
   "metadata": {},
   "outputs": [
    {
     "name": "stdout",
     "output_type": "stream",
     "text": [
      "Enter a number: 7\n",
      "Factorial of 7 is 5040\n"
     ]
    }
   ],
   "source": [
    "# 1.Write a Python Program to Find the Factorial of a Number?\n",
    "\n",
    "n = int(input(\"Enter a number: \"))\n",
    "fac = 1\n",
    "if n < 0:\n",
    "    print(\"Factorial of negative number doesn't exists\")\n",
    "elif n == 0:\n",
    "    print(\"Fcatorial of 0 is 1\")\n",
    "else:\n",
    "    for i in range(1,n+1):\n",
    "        fac = fac*i\n",
    "    print(\"Factorial of {} is {}\".format(n,fac))"
   ]
  },
  {
   "cell_type": "code",
   "execution_count": 10,
   "metadata": {},
   "outputs": [
    {
     "name": "stdout",
     "output_type": "stream",
     "text": [
      "Enter a number: 12\n",
      "12 * 1 = 12\n",
      "12 * 2 = 24\n",
      "12 * 3 = 36\n",
      "12 * 4 = 48\n",
      "12 * 5 = 60\n",
      "12 * 6 = 72\n",
      "12 * 7 = 84\n",
      "12 * 8 = 96\n",
      "12 * 9 = 108\n",
      "12 * 10 = 120\n"
     ]
    }
   ],
   "source": [
    "# 2.Write a Python Program to Display the multiplication Table?\n",
    "\n",
    "n = int(input(\"Enter a number: \"))\n",
    "for i in range(1,11):\n",
    "    print('{} * {} = {}'.format(n,i,n*i))"
   ]
  },
  {
   "cell_type": "code",
   "execution_count": 6,
   "metadata": {},
   "outputs": [
    {
     "name": "stdout",
     "output_type": "stream",
     "text": [
      "Enter number of terms: 7\n",
      "Fibonacci sequence upto 7 terms is: 0 1 1 2 3 5 8 "
     ]
    }
   ],
   "source": [
    "# 3.Write a Python Program to Print the Fibonacci sequence?\n",
    "\n",
    "n = int(input(\"Enter number of terms: \"))\n",
    "n1, n2, count= 0, 1, 0\n",
    "if n <= 0:\n",
    "    print(\"Please enter positive number!\")\n",
    "elif n == 1:\n",
    "    print(\"Fibonacci sequence upto\",n,\"terms is: \",n1)\n",
    "else:\n",
    "    print(\"Fibonacci sequence upto\",n,\"terms is:\",end = \" \")\n",
    "    while count < n:\n",
    "        print(n1,end = \" \")\n",
    "        nth = n1 + n2\n",
    "        n1 = n2\n",
    "        n2 = nth\n",
    "        count += 1"
   ]
  },
  {
   "cell_type": "code",
   "execution_count": 8,
   "metadata": {},
   "outputs": [
    {
     "name": "stdout",
     "output_type": "stream",
     "text": [
      "Enter a number: 153\n",
      "153 is an Armstrong number\n"
     ]
    }
   ],
   "source": [
    "# 4.Write a Python Program to Check Armstrong Number?\n",
    "#example: 153 = 1*1*1 + 5*5*5 + 3*3*3 \n",
    "\n",
    "n = int(input(\"Enter a number: \"))\n",
    "sum = 0\n",
    "temp = n\n",
    "while temp > 0:\n",
    "    digit = temp % 10\n",
    "    sum += digit **3\n",
    "    temp //= 10\n",
    "\n",
    "if n == sum:\n",
    "    print(n,\"is an Armstrong number\")\n",
    "else:\n",
    "    print(n,\"is not an Armstrong number\")"
   ]
  },
  {
   "cell_type": "code",
   "execution_count": 10,
   "metadata": {},
   "outputs": [
    {
     "name": "stdout",
     "output_type": "stream",
     "text": [
      "Enter lower bound: 100\n",
      "Enter upper bound: 1000\n",
      "153 is an Armstrong number\n",
      "370 is an Armstrong number\n",
      "371 is an Armstrong number\n",
      "407 is an Armstrong number\n"
     ]
    }
   ],
   "source": [
    "# 5.Write a Python Program to Find Armstrong Number in an Interval?\n",
    "\n",
    "l = int(input(\"Enter lower bound: \"))\n",
    "u = int(input(\"Enter upper bound: \"))\n",
    "for n in range(l,u+1):\n",
    "    sum = 0\n",
    "    temp = n\n",
    "    while temp > 0:\n",
    "        digit = temp % 10\n",
    "        sum += digit **3\n",
    "        temp //= 10\n",
    "    if n == sum:\n",
    "        print(n,\"is an Armstrong number\")\n"
   ]
  },
  {
   "cell_type": "code",
   "execution_count": 12,
   "metadata": {},
   "outputs": [
    {
     "name": "stdout",
     "output_type": "stream",
     "text": [
      "Enter a number: 10\n",
      "Sum of 10 natural number is: 55\n"
     ]
    }
   ],
   "source": [
    "# 6.Write a Python Program to Find the Sum of Natural Numbers?\n",
    "\n",
    "n = int(input(\"Enter a number: \"))\n",
    "sum = int(n*(n+1)/2)\n",
    "print(\"Sum of {} natural number is: {}\".format(n,sum))"
   ]
  }
 ],
 "metadata": {
  "kernelspec": {
   "display_name": "Python 3",
   "language": "python",
   "name": "python3"
  },
  "language_info": {
   "codemirror_mode": {
    "name": "ipython",
    "version": 3
   },
   "file_extension": ".py",
   "mimetype": "text/x-python",
   "name": "python",
   "nbconvert_exporter": "python",
   "pygments_lexer": "ipython3",
   "version": "3.8.5"
  }
 },
 "nbformat": 4,
 "nbformat_minor": 4
}
