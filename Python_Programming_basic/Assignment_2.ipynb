{
 "cells": [
  {
   "cell_type": "code",
   "execution_count": 8,
   "metadata": {},
   "outputs": [
    {
     "name": "stdout",
     "output_type": "stream",
     "text": [
      "Enter value in kilometers: 1\n",
      "1.00 kilometers is equal to 0.62 miles\n"
     ]
    }
   ],
   "source": [
    "# 1.Write a Python program to convert kilometers to miles?\n",
    "\n",
    "kilometers = float(input(\"Enter value in kilometers: \"))\n",
    "conv_fac = 0.621371\n",
    "miles = kilometers*conv_fac\n",
    "print('%0.2f kilometers is equal to %0.2f miles' % (kilometers,miles))"
   ]
  },
  {
   "cell_type": "code",
   "execution_count": 9,
   "metadata": {},
   "outputs": [
    {
     "name": "stdout",
     "output_type": "stream",
     "text": [
      "Enter value in degree Celsius: 37.5\n",
      "37.50 degree Celsius is equal to 99.50 degree Fahrenheit\n"
     ]
    }
   ],
   "source": [
    "# 2.Write a Python program to convert Celsius to Fahrenheit?\n",
    "\n",
    "celsius = float(input(\"Enter value in degree Celsius: \"))\n",
    "fahrenheit = (celsius*1.8) + 32 \n",
    "print('%0.2f degree Celsius is equal to %0.2f degree Fahrenheit' % (celsius,fahrenheit))"
   ]
  },
  {
   "cell_type": "code",
   "execution_count": 20,
   "metadata": {},
   "outputs": [
    {
     "name": "stdout",
     "output_type": "stream",
     "text": [
      "enter month: 8\n",
      "enter year: 2000\n",
      "    August 2000\n",
      "Mo Tu We Th Fr Sa Su\n",
      "    1  2  3  4  5  6\n",
      " 7  8  9 10 11 12 13\n",
      "14 15 16 17 18 19 20\n",
      "21 22 23 24 25 26 27\n",
      "28 29 30 31\n",
      "\n"
     ]
    }
   ],
   "source": [
    "# 3.Write a Python program to display calendar?\n",
    "\n",
    "import calendar\n",
    "m = int(input(\"enter month: \"))\n",
    "y = int(input(\"enter year: \"))\n",
    "print(calendar.month(y,m))"
   ]
  },
  {
   "cell_type": "code",
   "execution_count": 14,
   "metadata": {},
   "outputs": [
    {
     "name": "stdout",
     "output_type": "stream",
     "text": [
      "Consider equation ax^2 + bx + c\n",
      "enter a: 1\n",
      "enter b: 5\n",
      "enter c: 6\n",
      "The solution are (-3+0j) and (-2+0j)\n"
     ]
    }
   ],
   "source": [
    "# 4.Write a Python program to solve quadratic equation?\n",
    "\n",
    "import cmath\n",
    "print(\"Consider equation ax^2 + bx + c\")\n",
    "a,b,c = int(input(\"enter a: \")), int(input(\"enter b: \")), int(input(\"enter c: \"))\n",
    "d = (b**2) - (4*a*c)\n",
    "sol_1 = (-b - cmath.sqrt(d)) / (2*a)\n",
    "sol_2 = (-b + cmath.sqrt(d)) / (2*a)\n",
    "print(\"The solution are {} and {}\".format(sol_1,sol_2))"
   ]
  },
  {
   "cell_type": "code",
   "execution_count": 11,
   "metadata": {},
   "outputs": [
    {
     "name": "stdout",
     "output_type": "stream",
     "text": [
      "Enter value for x: 5\n",
      "Enter value for y: 6\n",
      "Value of x: 6\n",
      "Value of y: 5\n"
     ]
    }
   ],
   "source": [
    "# 5.Write a Python program to swap two variables without temp variable?\n",
    "\n",
    "x = input(\"Enter value for x: \")\n",
    "y = input(\"Enter value for y: \")\n",
    "x, y = y, x\n",
    "print(\"Value of x:\",x)\n",
    "print(\"Value of y:\",y)"
   ]
  }
 ],
 "metadata": {
  "kernelspec": {
   "display_name": "Python 3",
   "language": "python",
   "name": "python3"
  },
  "language_info": {
   "codemirror_mode": {
    "name": "ipython",
    "version": 3
   },
   "file_extension": ".py",
   "mimetype": "text/x-python",
   "name": "python",
   "nbconvert_exporter": "python",
   "pygments_lexer": "ipython3",
   "version": "3.8.5"
  }
 },
 "nbformat": 4,
 "nbformat_minor": 4
}
