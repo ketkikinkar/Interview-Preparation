{
 "cells": [
  {
   "cell_type": "code",
   "execution_count": 5,
   "metadata": {},
   "outputs": [
    {
     "name": "stdout",
     "output_type": "stream",
     "text": [
      "Enter a number: 15\n",
      "0  1  1  2  3  5  8  13  21  34  55  89  144  233  377  "
     ]
    }
   ],
   "source": [
    "# 1.Write a Python Program to Display Fibonacci Sequence Using Recursion?\n",
    "\n",
    "def fibonacci(n):\n",
    "    if n <= 1:\n",
    "        return n\n",
    "    else:\n",
    "        return fibonacci(n-1) + fibonacci(n-2)\n",
    "\n",
    "N = int(input(\"Enter a number: \"))\n",
    "if N < 0:\n",
    "    print(\"Enter a positive number\")\n",
    "else:\n",
    "    for i in range(N):\n",
    "        print(fibonacci(i),end=\"  \")"
   ]
  },
  {
   "cell_type": "code",
   "execution_count": 8,
   "metadata": {},
   "outputs": [
    {
     "name": "stdout",
     "output_type": "stream",
     "text": [
      "Enter a number: 6\n",
      "720\n"
     ]
    }
   ],
   "source": [
    "# 2.Write a Python Program to Find Factorial of Number Using Recursion?\n",
    "\n",
    "def factorial(n):\n",
    "    if n == 0:\n",
    "        return 1\n",
    "    else:\n",
    "        return n*(factorial(n-1))\n",
    "\n",
    "N = int(input(\"Enter a number: \"))\n",
    "if N < 0:\n",
    "    print(\"Fcatorial of negative number does not exist\")\n",
    "else:\n",
    "    print(factorial(N))"
   ]
  },
  {
   "cell_type": "code",
   "execution_count": 11,
   "metadata": {},
   "outputs": [
    {
     "name": "stdout",
     "output_type": "stream",
     "text": [
      "Input your height in meter: 1.67\n",
      "Input your weight in kilogram: 60.5\n",
      "Your Body Mass Index is: 21.69\n",
      "You are Healthy\n"
     ]
    }
   ],
   "source": [
    "# 3.Write a Python Program to calculate your Body Mass Index?\n",
    "\n",
    "height = float(input(\"Input your height in meter: \"))\n",
    "weight = float(input(\"Input your weight in kilogram: \"))\n",
    "bmi = round(weight/(height**2),2)\n",
    "print(\"Your Body Mass Index is:\",bmi)\n",
    "if bmi < 18.5:\n",
    "    print(\"You are Underweight\")\n",
    "elif bmi >= 18.5 and bmi < 24.9:\n",
    "    print(\"You are Healthy\")\n",
    "elif bmi >= 18.5 and bmi < 24.9:\n",
    "    print(\"You are Overweight\")\n",
    "elif bmi >= 30:\n",
    "    print(\"You are Obese\")"
   ]
  },
  {
   "cell_type": "code",
   "execution_count": 14,
   "metadata": {},
   "outputs": [
    {
     "name": "stdout",
     "output_type": "stream",
     "text": [
      "Enter a number: 14\n",
      "Natural logarithm of 14.0 is 1.146128035678238\n"
     ]
    }
   ],
   "source": [
    "# 4.Write a Python Program to calculate the natural logarithm of any number?\n",
    "\n",
    "import math\n",
    "n = float(input(\"Enter a number: \"))\n",
    "print(\"Natural logarithm of {} is {}\".format(n,math.log10(n)))"
   ]
  },
  {
   "cell_type": "code",
   "execution_count": 20,
   "metadata": {},
   "outputs": [
    {
     "name": "stdout",
     "output_type": "stream",
     "text": [
      "Enter a number: 5\n",
      "cube sum of first n natural numbers is: 225\n"
     ]
    }
   ],
   "source": [
    "# 5.Write a Python Program for cube sum of first n natural numbers?\n",
    "\n",
    "n = int(input(\"Enter a number: \"))\n",
    "sum = 0\n",
    "for i in range(0,n+1):\n",
    "    sum += i**3\n",
    "print(\"cube sum of first n natural numbers is:\",sum)"
   ]
  }
 ],
 "metadata": {
  "kernelspec": {
   "display_name": "Python 3",
   "language": "python",
   "name": "python3"
  }
 },
 "nbformat": 4,
 "nbformat_minor": 4
}
