{
 "cells": [
  {
   "cell_type": "code",
   "execution_count": 2,
   "metadata": {},
   "outputs": [
    {
     "name": "stdout",
     "output_type": "stream",
     "text": [
      "Enter a: 5\n",
      "Enter b: 6\n",
      "LCM of 5 and 6 is 30\n"
     ]
    }
   ],
   "source": [
    "# 1.Write a Python Program to Find LCM?\n",
    "\n",
    "a, b = int(input(\"Enter a: \")), int(input(\"Enter b: \"))\n",
    "if a > b:\n",
    "    greater = a\n",
    "else:\n",
    "    greater = b\n",
    "for i in range(greater,a*b+1):\n",
    "    if i%a == 0 and i%b == 0:\n",
    "        print(\"LCM of {} and {} is {}\".format(a,b,i))"
   ]
  },
  {
   "cell_type": "code",
   "execution_count": 8,
   "metadata": {},
   "outputs": [
    {
     "name": "stdout",
     "output_type": "stream",
     "text": [
      "Enter a: 98\n",
      "Enter b: 112\n",
      "HCF of 98 and 112 is 14\n"
     ]
    }
   ],
   "source": [
    "# 2.Write a Python Program to Find HCF?\n",
    "\n",
    "import math\n",
    "a, b = int(input(\"Enter a: \")), int(input(\"Enter b: \"))\n",
    "for i in range(int(math.sqrt(a*b)),1,-1):\n",
    "    if a%i == 0 and b%i == 0:\n",
    "        print(\"HCF of {} and {} is {}\".format(a,b,i))\n",
    "        break"
   ]
  },
  {
   "cell_type": "code",
   "execution_count": 3,
   "metadata": {},
   "outputs": [
    {
     "name": "stdout",
     "output_type": "stream",
     "text": [
      "Enter a number: 15\n",
      "0b1111 : in binary\n",
      "0o17 : in octal\n",
      "0xf : in hexadecimal\n"
     ]
    }
   ],
   "source": [
    "# 3.Write a Python Program to Convert Decimal to Binary, Octal and Hexadecimal?\n",
    "\n",
    "n = int(input(\"Enter a number: \"))\n",
    "print(bin(n),\": in binary\")\n",
    "print(oct(n),\": in octal\")\n",
    "print(hex(n),\": in hexadecimal\")"
   ]
  },
  {
   "cell_type": "code",
   "execution_count": 4,
   "metadata": {},
   "outputs": [
    {
     "name": "stdout",
     "output_type": "stream",
     "text": [
      "Enter a charecter: a\n",
      "ASCII value of a character a is 97\n"
     ]
    }
   ],
   "source": [
    "# 4.Write a Python Program To Find ASCII value of a character?\n",
    "\n",
    "c = input(\"Enter a charecter: \")\n",
    "print(\"ASCII value of a character\",c,\"is\",ord(c))"
   ]
  },
  {
   "cell_type": "code",
   "execution_count": 5,
   "metadata": {},
   "outputs": [
    {
     "name": "stdout",
     "output_type": "stream",
     "text": [
      "Enter a: 8\n",
      "Enter b: 9\n",
      "Enter 0 to add; 1 to subtract; 2 to multiply; 3 to divide2\n",
      "72\n"
     ]
    }
   ],
   "source": [
    "# 5.Write a Python Program to Make a Simple Calculator with 4 basic mathematical operations?\n",
    "\n",
    "def calculate(arg):\n",
    "    switcher = {\n",
    "        0: a+b,\n",
    "        1: a-b,\n",
    "        2: a*b,\n",
    "        3: a/b\n",
    "    }\n",
    "    return switcher.get(arg, \"nothing\")\n",
    "  \n",
    "a = int(input(\"Enter a: \"))\n",
    "b = int(input(\"Enter b: \"))\n",
    "n = int(input(\"Enter 0 to add; 1 to subtract; 2 to multiply; 3 to divide\"))\n",
    "print(calculate(n))"
   ]
  }
 ],
 "metadata": {
  "kernelspec": {
   "display_name": "Python 3",
   "language": "python",
   "name": "python3"
  },
  "language_info": {
   "codemirror_mode": {
    "name": "ipython",
    "version": 3
   },
   "file_extension": ".py",
   "mimetype": "text/x-python",
   "name": "python",
   "nbconvert_exporter": "python",
   "pygments_lexer": "ipython3",
   "version": "3.8.5"
  }
 },
 "nbformat": 4,
 "nbformat_minor": 4
}
