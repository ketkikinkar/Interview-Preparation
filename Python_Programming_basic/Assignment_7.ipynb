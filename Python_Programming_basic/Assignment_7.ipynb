{
 "cells": [
  {
   "cell_type": "code",
   "execution_count": 1,
   "metadata": {},
   "outputs": [
    {
     "name": "stdout",
     "output_type": "stream",
     "text": [
      "Enter the length of array: 10\n",
      "1\n",
      "2\n",
      "3\n",
      "4\n",
      "5\n",
      "6\n",
      "7\n",
      "8\n",
      "9\n",
      "10\n",
      "Sum of array is: 55\n"
     ]
    }
   ],
   "source": [
    "# 1.Write a Python Program to find sum of array?\n",
    "\n",
    "def arr_sum(arr):\n",
    "    sum = 0\n",
    "    for i in range(len(arr)):\n",
    "        sum += arr[i]\n",
    "    return sum\n",
    "\n",
    "arr = [int(input()) for i in range(int(input(\"Enter the length of array: \")))]\n",
    "print(\"Sum of array is:\",arr_sum(arr))"
   ]
  },
  {
   "cell_type": "code",
   "execution_count": 2,
   "metadata": {},
   "outputs": [
    {
     "name": "stdout",
     "output_type": "stream",
     "text": [
      "Enter the length of array5\n",
      "65\n",
      "0\n",
      "98\n",
      "45\n",
      "65\n",
      "Largest element in an array is: 98\n"
     ]
    }
   ],
   "source": [
    "# 2.Write a Python Program to find largest element in an array?\n",
    "\n",
    "def largest(arr):\n",
    "    max = arr[0]\n",
    "    for i in range(len(arr)):\n",
    "        if max < arr[i]:\n",
    "            max = arr[i]\n",
    "    return max\n",
    "\n",
    "arr = [int(input()) for i in range(int(input(\"Enter the length of array\")))]\n",
    "print(\"Largest element in an array is:\",largest(arr))"
   ]
  },
  {
   "cell_type": "code",
   "execution_count": 24,
   "metadata": {},
   "outputs": [
    {
     "name": "stdout",
     "output_type": "stream",
     "text": [
      "Enter the length of array: 5\n",
      "1\n",
      "2\n",
      "3\n",
      "4\n",
      "5\n",
      "Enter the factor by which you want to rotate the array: 2\n",
      "Array after array rotation is:  [3, 4, 5, 1, 2]\n"
     ]
    }
   ],
   "source": [
    "# 3.Write a Python Program for array rotation?\n",
    "\n",
    "def arrRotation(arr,n,l):\n",
    "    temp = []\n",
    "    i = 0\n",
    "    while i < n:\n",
    "        temp.append(arr[i])\n",
    "        i += 1\n",
    "    i = 0\n",
    "    while n < l:\n",
    "        arr[i] = arr[n]\n",
    "        n += 1\n",
    "        i += 1\n",
    "    arr[:] = arr[:i] + temp\n",
    "    return arr\n",
    "\n",
    "l = int(input(\"Enter the length of array: \"))\n",
    "arr = [int(input()) for i in range(l)]\n",
    "n = int(input(\"Enter the factor by which you want to rotate the array: \"))\n",
    "print(\"Array after array rotation is: \",arrRotation(arr,n,l))"
   ]
  },
  {
   "cell_type": "code",
   "execution_count": 25,
   "metadata": {},
   "outputs": [
    {
     "name": "stdout",
     "output_type": "stream",
     "text": [
      "Enter the length of array: 6\n",
      "5\n",
      "6\n",
      "7\n",
      "8\n",
      "9\n",
      "10\n",
      "Enter the position from which you want to split the array: 3\n",
      "Array after rearrangement:  [8, 9, 10, 5, 6, 7]\n"
     ]
    }
   ],
   "source": [
    "# 4.Write a Python Program to Split the array and add the first part to the end?\n",
    "\n",
    "def arrSplit(arr,k):\n",
    "    temp = arr[:k]\n",
    "    arr = arr[k:] + temp\n",
    "    return arr\n",
    "\n",
    "arr = [int(input()) for i in range(int(input(\"Enter the length of array: \")))]\n",
    "k = int(input(\"Enter the position from which you want to split the array: \"))\n",
    "print(\"Array after rearrangement: \",arrSplit(arr,k))"
   ]
  },
  {
   "cell_type": "code",
   "execution_count": 28,
   "metadata": {},
   "outputs": [
    {
     "name": "stdout",
     "output_type": "stream",
     "text": [
      "Enter the length of array: 5\n",
      "1\n",
      "2\n",
      "3\n",
      "4\n",
      "5\n",
      "[1, 2, 3, 4, 5] is Monotonic\n"
     ]
    }
   ],
   "source": [
    "# 5.Write a Python Program to check if given array is Monotonic?\n",
    "\n",
    "def isMonotonic(arr):\n",
    "    return (all(arr[i] <= arr[i+1] for i in range(len(arr)-1)) or all(arr[i] >= arr[i+1] for i in range(len(arr)-1)))\n",
    "\n",
    "arr = [int(input()) for i in range(int(input(\"Enter the length of array: \")))]\n",
    "if isMonotonic(arr):\n",
    "    print(arr,\"is Monotonic\")\n",
    "else:\n",
    "    print(arr,\"is not MOnotonic\")"
   ]
  }
 ],
 "metadata": {
  "kernelspec": {
   "display_name": "Python 3",
   "language": "python",
   "name": "python3"
  },
  "language_info": {
   "codemirror_mode": {
    "name": "ipython",
    "version": 3
   },
   "file_extension": ".py",
   "mimetype": "text/x-python",
   "name": "python",
   "nbconvert_exporter": "python",
   "pygments_lexer": "ipython3",
   "version": "3.8.5"
  }
 },
 "nbformat": 4,
 "nbformat_minor": 4
}
