{
  "nbformat": 4,
  "nbformat_minor": 0,
  "metadata": {
    "colab": {
      "name": "aish.ipynb",
      "provenance": [],
      "collapsed_sections": [],
      "toc_visible": true
    },
    "kernelspec": {
      "name": "python3",
      "display_name": "Python 3"
    }
  },
  "cells": [
    {
      "cell_type": "markdown",
      "metadata": {
        "id": "1fziHl7Ar94J"
      },
      "source": [
        "# Apriori"
      ]
    },
    {
      "cell_type": "markdown",
      "metadata": {
        "id": "eiNwni1xsEgT"
      },
      "source": [
        "## Importing the libraries"
      ]
    },
    {
      "cell_type": "code",
      "metadata": {
        "id": "DUF77Qr1vqyM",
        "colab": {
          "base_uri": "https://localhost:8080/"
        },
        "outputId": "1feadf00-eb7b-4a45-8a50-e975a5320067"
      },
      "source": [
        "!pip install apyori"
      ],
      "execution_count": 1,
      "outputs": [
        {
          "output_type": "stream",
          "text": [
            "Collecting apyori\n",
            "  Downloading https://files.pythonhosted.org/packages/5e/62/5ffde5c473ea4b033490617ec5caa80d59804875ad3c3c57c0976533a21a/apyori-1.1.2.tar.gz\n",
            "Building wheels for collected packages: apyori\n",
            "  Building wheel for apyori (setup.py) ... \u001b[?25l\u001b[?25hdone\n",
            "  Created wheel for apyori: filename=apyori-1.1.2-cp36-none-any.whl size=5977 sha256=2f659e77f4909aa43b9d5ce84584dfd630ca68c77495ebc376146b942d97032c\n",
            "  Stored in directory: /root/.cache/pip/wheels/5d/92/bb/474bbadbc8c0062b9eb168f69982a0443263f8ab1711a8cad0\n",
            "Successfully built apyori\n",
            "Installing collected packages: apyori\n",
            "Successfully installed apyori-1.1.2\n"
          ],
          "name": "stdout"
        }
      ]
    },
    {
      "cell_type": "code",
      "metadata": {
        "id": "UJfitBClsJlT"
      },
      "source": [
        "import numpy as np\n",
        "import matplotlib.pyplot as plt\n",
        "import pandas as pd"
      ],
      "execution_count": 2,
      "outputs": []
    },
    {
      "cell_type": "markdown",
      "metadata": {
        "id": "vLt-7XUKsXBd"
      },
      "source": [
        "## Data Preprocessing"
      ]
    },
    {
      "cell_type": "code",
      "metadata": {
        "id": "J_A-UFOAsaDf"
      },
      "source": [
        "dataset = pd.read_csv('groceries.csv', header = None)\n",
        "transactions = []\n",
        "for i in range(0, 9836):\n",
        "  transactions.append([str(dataset.values[i,j]) for j in range(1, 33)])"
      ],
      "execution_count": 7,
      "outputs": []
    },
    {
      "cell_type": "markdown",
      "metadata": {
        "id": "1wYZdBd5sea_"
      },
      "source": [
        "## Training the Apriori model on the dataset"
      ]
    },
    {
      "cell_type": "code",
      "metadata": {
        "id": "YzIk4vXZsj5i"
      },
      "source": [
        "from apyori import apriori\n",
        "rules = apriori(transactions = transactions, min_support = 0.003, min_confidence = 0.2, min_lift = 3, min_length = 2, max_length = 2)"
      ],
      "execution_count": 8,
      "outputs": []
    },
    {
      "cell_type": "markdown",
      "metadata": {
        "id": "b176YNwWspiO"
      },
      "source": [
        "## Visualising the results"
      ]
    },
    {
      "cell_type": "markdown",
      "metadata": {
        "id": "iO6bF_dImT-E"
      },
      "source": [
        "### Displaying the first results coming directly from the output of the apriori function"
      ]
    },
    {
      "cell_type": "code",
      "metadata": {
        "id": "kvF-sLc6ifhd"
      },
      "source": [
        "results = list(rules)"
      ],
      "execution_count": 9,
      "outputs": []
    },
    {
      "cell_type": "code",
      "metadata": {
        "id": "eAD8Co4_l9IE",
        "colab": {
          "base_uri": "https://localhost:8080/"
        },
        "outputId": "e7bd0621-11a3-47b5-8d38-7558a8f72fba"
      },
      "source": [
        "results"
      ],
      "execution_count": 10,
      "outputs": [
        {
          "output_type": "execute_result",
          "data": {
            "text/plain": [
              "[RelationRecord(items=frozenset({'hamburger meat', 'Instant food products'}), support=0.0030500203334688897, ordered_statistics=[OrderedStatistic(items_base=frozenset({'Instant food products'}), items_add=frozenset({'hamburger meat'}), confidence=0.37974683544303794, lift=11.422599001277435)]),\n",
              " RelationRecord(items=frozenset({'whipped/sour cream', 'baking powder'}), support=0.004575030500203334, ordered_statistics=[OrderedStatistic(items_base=frozenset({'baking powder'}), items_add=frozenset({'whipped/sour cream'}), confidence=0.2586206896551724, lift=3.608217168011738)]),\n",
              " RelationRecord(items=frozenset({'root vegetables', 'beef'}), support=0.01738511590077267, ordered_statistics=[OrderedStatistic(items_base=frozenset({'beef'}), items_add=frozenset({'root vegetables'}), confidence=0.3313953488372093, lift=3.0406759805623045)]),\n",
              " RelationRecord(items=frozenset({'whipped/sour cream', 'berries'}), support=0.009048393655957707, ordered_statistics=[OrderedStatistic(items_base=frozenset({'berries'}), items_add=frozenset({'whipped/sour cream'}), confidence=0.27217125382262997, lift=3.7972715639707637)]),\n",
              " RelationRecord(items=frozenset({'liquor', 'bottled beer'}), support=0.004676697844652297, ordered_statistics=[OrderedStatistic(items_base=frozenset({'liquor'}), items_add=frozenset({'bottled beer'}), confidence=0.4220183486238532, lift=5.2411268649800755)]),\n",
              " RelationRecord(items=frozenset({'bottled beer', 'red/blush wine'}), support=0.004880032533550223, ordered_statistics=[OrderedStatistic(items_base=frozenset({'red/blush wine'}), items_add=frozenset({'bottled beer'}), confidence=0.25396825396825395, lift=3.1540804874138204)]),\n",
              " RelationRecord(items=frozenset({'margarine', 'flour'}), support=0.0037616917446116308, ordered_statistics=[OrderedStatistic(items_base=frozenset({'flour'}), items_add=frozenset({'margarine'}), confidence=0.21637426900584797, lift=3.6948911630929175)]),\n",
              " RelationRecord(items=frozenset({'sugar', 'flour'}), support=0.004981699877999186, ordered_statistics=[OrderedStatistic(items_base=frozenset({'flour'}), items_add=frozenset({'sugar'}), confidence=0.28654970760233917, lift=8.463972744674498)]),\n",
              " RelationRecord(items=frozenset({'whipped/sour cream', 'flour'}), support=0.004066693777958519, ordered_statistics=[OrderedStatistic(items_base=frozenset({'flour'}), items_add=frozenset({'whipped/sour cream'}), confidence=0.23391812865497075, lift=3.263572643191904)]),\n",
              " RelationRecord(items=frozenset({'herbs', 'root vegetables'}), support=0.0070150467669784465, ordered_statistics=[OrderedStatistic(items_base=frozenset({'herbs'}), items_add=frozenset({'root vegetables'}), confidence=0.43125, lift=3.956879664179105)]),\n",
              " RelationRecord(items=frozenset({'white bread', 'processed cheese'}), support=0.004168361122407482, ordered_statistics=[OrderedStatistic(items_base=frozenset({'processed cheese'}), items_add=frozenset({'white bread'}), confidence=0.25153374233128833, lift=5.976052873358822)]),\n",
              " RelationRecord(items=frozenset({'root vegetables', 'rice'}), support=0.0031516876779178527, ordered_statistics=[OrderedStatistic(items_base=frozenset({'rice'}), items_add=frozenset({'root vegetables'}), confidence=0.41333333333333333, lift=3.792487562189055)]),\n",
              " RelationRecord(items=frozenset({'sliced cheese', 'sausage'}), support=0.0070150467669784465, ordered_statistics=[OrderedStatistic(items_base=frozenset({'sliced cheese'}), items_add=frozenset({'sausage'}), confidence=0.28630705394190875, lift=3.047744786333998)])]"
            ]
          },
          "metadata": {
            "tags": []
          },
          "execution_count": 10
        }
      ]
    },
    {
      "cell_type": "markdown",
      "metadata": {
        "id": "MFkQP-fcjDBC"
      },
      "source": [
        "### Putting the results well organised into a Pandas DataFrame"
      ]
    },
    {
      "cell_type": "code",
      "metadata": {
        "id": "gyq7Poi0mMUe"
      },
      "source": [
        "def inspect(results):\n",
        "    lhs         = [tuple(result[2][0][0])[0] for result in results]\n",
        "    rhs         = [tuple(result[2][0][1])[0] for result in results]\n",
        "    supports    = [result[1] for result in results]\n",
        "    confidences = [result[2][0][2] for result in results]\n",
        "    lifts       = [result[2][0][3] for result in results]\n",
        "    return list(zip(lhs, rhs, supports, confidences, lifts))\n",
        "resultsinDataFrame = pd.DataFrame(inspect(results), columns = ['Left Hand Side', 'Right Hand Side', 'Support', 'Confidence', 'Lift'])"
      ],
      "execution_count": 11,
      "outputs": []
    },
    {
      "cell_type": "markdown",
      "metadata": {
        "id": "Pfn-G1eAjjLz"
      },
      "source": [
        "### Displaying the results non sorted"
      ]
    },
    {
      "cell_type": "code",
      "metadata": {
        "id": "CmDCcs_6ip9V",
        "colab": {
          "base_uri": "https://localhost:8080/",
          "height": 432
        },
        "outputId": "230ba19e-6454-4f91-d621-0136fbdb0bee"
      },
      "source": [
        "resultsinDataFrame"
      ],
      "execution_count": 12,
      "outputs": [
        {
          "output_type": "execute_result",
          "data": {
            "text/html": [
              "<div>\n",
              "<style scoped>\n",
              "    .dataframe tbody tr th:only-of-type {\n",
              "        vertical-align: middle;\n",
              "    }\n",
              "\n",
              "    .dataframe tbody tr th {\n",
              "        vertical-align: top;\n",
              "    }\n",
              "\n",
              "    .dataframe thead th {\n",
              "        text-align: right;\n",
              "    }\n",
              "</style>\n",
              "<table border=\"1\" class=\"dataframe\">\n",
              "  <thead>\n",
              "    <tr style=\"text-align: right;\">\n",
              "      <th></th>\n",
              "      <th>Left Hand Side</th>\n",
              "      <th>Right Hand Side</th>\n",
              "      <th>Support</th>\n",
              "      <th>Confidence</th>\n",
              "      <th>Lift</th>\n",
              "    </tr>\n",
              "  </thead>\n",
              "  <tbody>\n",
              "    <tr>\n",
              "      <th>0</th>\n",
              "      <td>Instant food products</td>\n",
              "      <td>hamburger meat</td>\n",
              "      <td>0.003050</td>\n",
              "      <td>0.379747</td>\n",
              "      <td>11.422599</td>\n",
              "    </tr>\n",
              "    <tr>\n",
              "      <th>1</th>\n",
              "      <td>baking powder</td>\n",
              "      <td>whipped/sour cream</td>\n",
              "      <td>0.004575</td>\n",
              "      <td>0.258621</td>\n",
              "      <td>3.608217</td>\n",
              "    </tr>\n",
              "    <tr>\n",
              "      <th>2</th>\n",
              "      <td>beef</td>\n",
              "      <td>root vegetables</td>\n",
              "      <td>0.017385</td>\n",
              "      <td>0.331395</td>\n",
              "      <td>3.040676</td>\n",
              "    </tr>\n",
              "    <tr>\n",
              "      <th>3</th>\n",
              "      <td>berries</td>\n",
              "      <td>whipped/sour cream</td>\n",
              "      <td>0.009048</td>\n",
              "      <td>0.272171</td>\n",
              "      <td>3.797272</td>\n",
              "    </tr>\n",
              "    <tr>\n",
              "      <th>4</th>\n",
              "      <td>liquor</td>\n",
              "      <td>bottled beer</td>\n",
              "      <td>0.004677</td>\n",
              "      <td>0.422018</td>\n",
              "      <td>5.241127</td>\n",
              "    </tr>\n",
              "    <tr>\n",
              "      <th>5</th>\n",
              "      <td>red/blush wine</td>\n",
              "      <td>bottled beer</td>\n",
              "      <td>0.004880</td>\n",
              "      <td>0.253968</td>\n",
              "      <td>3.154080</td>\n",
              "    </tr>\n",
              "    <tr>\n",
              "      <th>6</th>\n",
              "      <td>flour</td>\n",
              "      <td>margarine</td>\n",
              "      <td>0.003762</td>\n",
              "      <td>0.216374</td>\n",
              "      <td>3.694891</td>\n",
              "    </tr>\n",
              "    <tr>\n",
              "      <th>7</th>\n",
              "      <td>flour</td>\n",
              "      <td>sugar</td>\n",
              "      <td>0.004982</td>\n",
              "      <td>0.286550</td>\n",
              "      <td>8.463973</td>\n",
              "    </tr>\n",
              "    <tr>\n",
              "      <th>8</th>\n",
              "      <td>flour</td>\n",
              "      <td>whipped/sour cream</td>\n",
              "      <td>0.004067</td>\n",
              "      <td>0.233918</td>\n",
              "      <td>3.263573</td>\n",
              "    </tr>\n",
              "    <tr>\n",
              "      <th>9</th>\n",
              "      <td>herbs</td>\n",
              "      <td>root vegetables</td>\n",
              "      <td>0.007015</td>\n",
              "      <td>0.431250</td>\n",
              "      <td>3.956880</td>\n",
              "    </tr>\n",
              "    <tr>\n",
              "      <th>10</th>\n",
              "      <td>processed cheese</td>\n",
              "      <td>white bread</td>\n",
              "      <td>0.004168</td>\n",
              "      <td>0.251534</td>\n",
              "      <td>5.976053</td>\n",
              "    </tr>\n",
              "    <tr>\n",
              "      <th>11</th>\n",
              "      <td>rice</td>\n",
              "      <td>root vegetables</td>\n",
              "      <td>0.003152</td>\n",
              "      <td>0.413333</td>\n",
              "      <td>3.792488</td>\n",
              "    </tr>\n",
              "    <tr>\n",
              "      <th>12</th>\n",
              "      <td>sliced cheese</td>\n",
              "      <td>sausage</td>\n",
              "      <td>0.007015</td>\n",
              "      <td>0.286307</td>\n",
              "      <td>3.047745</td>\n",
              "    </tr>\n",
              "  </tbody>\n",
              "</table>\n",
              "</div>"
            ],
            "text/plain": [
              "           Left Hand Side     Right Hand Side   Support  Confidence       Lift\n",
              "0   Instant food products      hamburger meat  0.003050    0.379747  11.422599\n",
              "1           baking powder  whipped/sour cream  0.004575    0.258621   3.608217\n",
              "2                    beef     root vegetables  0.017385    0.331395   3.040676\n",
              "3                 berries  whipped/sour cream  0.009048    0.272171   3.797272\n",
              "4                  liquor        bottled beer  0.004677    0.422018   5.241127\n",
              "5          red/blush wine        bottled beer  0.004880    0.253968   3.154080\n",
              "6                   flour           margarine  0.003762    0.216374   3.694891\n",
              "7                   flour               sugar  0.004982    0.286550   8.463973\n",
              "8                   flour  whipped/sour cream  0.004067    0.233918   3.263573\n",
              "9                   herbs     root vegetables  0.007015    0.431250   3.956880\n",
              "10       processed cheese         white bread  0.004168    0.251534   5.976053\n",
              "11                   rice     root vegetables  0.003152    0.413333   3.792488\n",
              "12          sliced cheese             sausage  0.007015    0.286307   3.047745"
            ]
          },
          "metadata": {
            "tags": []
          },
          "execution_count": 12
        }
      ]
    },
    {
      "cell_type": "markdown",
      "metadata": {
        "id": "IjrrlYW4jpTR"
      },
      "source": [
        "### Displaying the results sorted by descending lifts"
      ]
    },
    {
      "cell_type": "code",
      "metadata": {
        "id": "nI7DJXng-nxQ",
        "colab": {
          "base_uri": "https://localhost:8080/",
          "height": 343
        },
        "outputId": "1b9ac9a0-ccb0-43e0-9907-245eff2220ab"
      },
      "source": [
        "resultsinDataFrame.nlargest(n = 10, columns = 'Lift')"
      ],
      "execution_count": 13,
      "outputs": [
        {
          "output_type": "execute_result",
          "data": {
            "text/html": [
              "<div>\n",
              "<style scoped>\n",
              "    .dataframe tbody tr th:only-of-type {\n",
              "        vertical-align: middle;\n",
              "    }\n",
              "\n",
              "    .dataframe tbody tr th {\n",
              "        vertical-align: top;\n",
              "    }\n",
              "\n",
              "    .dataframe thead th {\n",
              "        text-align: right;\n",
              "    }\n",
              "</style>\n",
              "<table border=\"1\" class=\"dataframe\">\n",
              "  <thead>\n",
              "    <tr style=\"text-align: right;\">\n",
              "      <th></th>\n",
              "      <th>Left Hand Side</th>\n",
              "      <th>Right Hand Side</th>\n",
              "      <th>Support</th>\n",
              "      <th>Confidence</th>\n",
              "      <th>Lift</th>\n",
              "    </tr>\n",
              "  </thead>\n",
              "  <tbody>\n",
              "    <tr>\n",
              "      <th>0</th>\n",
              "      <td>Instant food products</td>\n",
              "      <td>hamburger meat</td>\n",
              "      <td>0.003050</td>\n",
              "      <td>0.379747</td>\n",
              "      <td>11.422599</td>\n",
              "    </tr>\n",
              "    <tr>\n",
              "      <th>7</th>\n",
              "      <td>flour</td>\n",
              "      <td>sugar</td>\n",
              "      <td>0.004982</td>\n",
              "      <td>0.286550</td>\n",
              "      <td>8.463973</td>\n",
              "    </tr>\n",
              "    <tr>\n",
              "      <th>10</th>\n",
              "      <td>processed cheese</td>\n",
              "      <td>white bread</td>\n",
              "      <td>0.004168</td>\n",
              "      <td>0.251534</td>\n",
              "      <td>5.976053</td>\n",
              "    </tr>\n",
              "    <tr>\n",
              "      <th>4</th>\n",
              "      <td>liquor</td>\n",
              "      <td>bottled beer</td>\n",
              "      <td>0.004677</td>\n",
              "      <td>0.422018</td>\n",
              "      <td>5.241127</td>\n",
              "    </tr>\n",
              "    <tr>\n",
              "      <th>9</th>\n",
              "      <td>herbs</td>\n",
              "      <td>root vegetables</td>\n",
              "      <td>0.007015</td>\n",
              "      <td>0.431250</td>\n",
              "      <td>3.956880</td>\n",
              "    </tr>\n",
              "    <tr>\n",
              "      <th>3</th>\n",
              "      <td>berries</td>\n",
              "      <td>whipped/sour cream</td>\n",
              "      <td>0.009048</td>\n",
              "      <td>0.272171</td>\n",
              "      <td>3.797272</td>\n",
              "    </tr>\n",
              "    <tr>\n",
              "      <th>11</th>\n",
              "      <td>rice</td>\n",
              "      <td>root vegetables</td>\n",
              "      <td>0.003152</td>\n",
              "      <td>0.413333</td>\n",
              "      <td>3.792488</td>\n",
              "    </tr>\n",
              "    <tr>\n",
              "      <th>6</th>\n",
              "      <td>flour</td>\n",
              "      <td>margarine</td>\n",
              "      <td>0.003762</td>\n",
              "      <td>0.216374</td>\n",
              "      <td>3.694891</td>\n",
              "    </tr>\n",
              "    <tr>\n",
              "      <th>1</th>\n",
              "      <td>baking powder</td>\n",
              "      <td>whipped/sour cream</td>\n",
              "      <td>0.004575</td>\n",
              "      <td>0.258621</td>\n",
              "      <td>3.608217</td>\n",
              "    </tr>\n",
              "    <tr>\n",
              "      <th>8</th>\n",
              "      <td>flour</td>\n",
              "      <td>whipped/sour cream</td>\n",
              "      <td>0.004067</td>\n",
              "      <td>0.233918</td>\n",
              "      <td>3.263573</td>\n",
              "    </tr>\n",
              "  </tbody>\n",
              "</table>\n",
              "</div>"
            ],
            "text/plain": [
              "           Left Hand Side     Right Hand Side   Support  Confidence       Lift\n",
              "0   Instant food products      hamburger meat  0.003050    0.379747  11.422599\n",
              "7                   flour               sugar  0.004982    0.286550   8.463973\n",
              "10       processed cheese         white bread  0.004168    0.251534   5.976053\n",
              "4                  liquor        bottled beer  0.004677    0.422018   5.241127\n",
              "9                   herbs     root vegetables  0.007015    0.431250   3.956880\n",
              "3                 berries  whipped/sour cream  0.009048    0.272171   3.797272\n",
              "11                   rice     root vegetables  0.003152    0.413333   3.792488\n",
              "6                   flour           margarine  0.003762    0.216374   3.694891\n",
              "1           baking powder  whipped/sour cream  0.004575    0.258621   3.608217\n",
              "8                   flour  whipped/sour cream  0.004067    0.233918   3.263573"
            ]
          },
          "metadata": {
            "tags": []
          },
          "execution_count": 13
        }
      ]
    }
  ]
}