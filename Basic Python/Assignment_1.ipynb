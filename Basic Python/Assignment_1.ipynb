{
 "cells": [
  {
   "cell_type": "raw",
   "metadata": {},
   "source": [
    " 1. What are the differences between operators and values in the following?\n",
    "\n",
    "*\n",
    "'hello'\n",
    "-87.8\n",
    "-\n",
    "/\n",
    "+\n",
    "6\n",
    "\n",
    "Soultion:\n",
    "\n",
    "Operators -> *, -, /, +\n",
    "Vales     -> 'hello', -87.8, 6\n",
    "Operators are the constructs which can manipulate the value of operands.\n",
    "A value is one of the fundamental things like a letter or a number that a program manipulates which is genrally assigned to a variable."
   ]
  },
  {
   "cell_type": "raw",
   "metadata": {},
   "source": [
    "2. What is the difference between string and variable?\n",
    "spam\n",
    "'spam'\n",
    "\n",
    "Soultion:\n",
    "\n",
    "String is a data type for a sequence of characters(e.g. \"asdfGHJK\"). In addition to letters, they can also include numbers, spaces, punctuation, and even line breaks(using '\\n' for new line). String a type of information you would store in a Variable.\n",
    "\n",
    "Variable is store of information. Variables are references that you create to refer to other values in your program later.\n",
    "\n",
    "spam   ->  variable (as it is not enclosed with '' or \"\")\n",
    "'spam' ->  string   (as it is enclosed with '')"
   ]
  },
  {
   "cell_type": "raw",
   "metadata": {},
   "source": [
    "3. Describe three different data forms.\n",
    "\n",
    "Solution:\n",
    "\n",
    "Data types are classified or categorization of data items. It represents the kind of values that tells what opeartions can be performed on a particular data. Since everything is an object in Python programming, data types are actually classes and variables are instance(object) of these classes.\n",
    "\n",
    "Standard built-in data type of Python:\n",
    "- Numeric\n",
    "- Sequence Type\n",
    "- Boolean\n",
    "- Set\n",
    "- Dictionary\n",
    "\n",
    "(i) Numeric:\n",
    "As the name suggests, numeric data type represents the data which has numeric value. It can be integer(int), floating number(float) and complex number(complex) in Python.\n",
    "Integer : This is represented by int class. It contains positive or negative whole numbers(without fraction or decimal). In\n",
    "        Python there is no limit to how long an integer value can be.\n",
    "Float   : This value is represented by float calss. It is a real number with floating point representation. It is specified \n",
    "        by a decimal point. \n",
    "Complex no: It is represented by complex class. It is specified as (real part) + (imaginary)j. For example: -2+3j\n",
    "        \n",
    "(ii) Sequence Type:\n",
    "In Python, sequence is the ordered collection of similar or different data types. Sequences allows to store multiple values in an organized and efficient fashion. There ares several sequence types un Python - String, List, Tuple.\n",
    "String  : Strings are arrays of bytes representing Unicode characters. A string is a collection of one or more characters \n",
    "        put in a single quote, double-quote or triple quote. In Python, there is no character data type, a character is a \n",
    "        string of legth one. It is represented by str class.\n",
    "List    : List are just like arrays, declared in othet languages which is a ordered collection of data. It is very flexible \n",
    "        as the items in a list do not need to be of the same type.\n",
    "Tuple   : Just like list, tuple is also an ordered collection of Python objects. The only difference between tuple and list \n",
    "        is that tuple are immutable i.e. tuples cannnot be modified after it is created. It is represented by tuple class.\n",
    "        \n",
    "(iii) Boolean:\n",
    "Data type with one of the two built-in values, True or False. Boolean objects that are equal to True are truthy (true), and those equal to False are falsy (false). But non-Boolean objects can be evaluated in Boolean context as well and determined to be true or false. It is denoted by the class bool."
   ]
  },
  {
   "cell_type": "raw",
   "metadata": {},
   "source": [
    "4. What is an expression made up of? What do all expressions do?\n",
    "\n",
    "Solution:\n",
    "\n",
    "An expression is a combination of values, variables, operators, and calls to functions. Expressions need to be evaluated. If you ask Python to print an expression, the interpreter evaluates the expression and displays the result. \n",
    "All expressions evaluate (that is, reduce) to a single value."
   ]
  },
  {
   "cell_type": "raw",
   "metadata": {},
   "source": [
    "5. This assignment statements, like spam = 10. What is the difference between an expression and a statement?\n",
    "\n",
    "Solution:\n",
    "\n",
    "In programming language terminology, an “expression” is a combination of values and functions that are combined and interpreted by the compiler to create a new value, as opposed to a “statement” which is just a standalone unit of execution and doesn’t return anything.\n"
   ]
  },
  {
   "cell_type": "raw",
   "metadata": {},
   "source": [
    "6. After running the following code, what does the variable bacon contain?\n",
    "bacon = 22\n",
    "bacon + 1\n",
    "\n",
    "Solution: Though output will be 23 but variable bacon will contain value as 22."
   ]
  },
  {
   "cell_type": "raw",
   "metadata": {},
   "source": [
    "7. What should the values of the following two terms be?\n",
    "'spam' + 'spamspam'\n",
    "'spam' * 3\n",
    "\n",
    "\n",
    "Solution:\n",
    "\n",
    "Both the terms will have same value as = 'spamspamspam'"
   ]
  },
  {
   "cell_type": "raw",
   "metadata": {},
   "source": [
    "8. Why is eggs a valid variable name while 100 is invalid?\n",
    "\n",
    "Solution: \n",
    "\n",
    "Because Variable names cannot begin with a number."
   ]
  },
  {
   "cell_type": "raw",
   "metadata": {},
   "source": [
    "9. What three functions can be used to get the integer, floating-point number, or string version of a value?\n",
    "\n",
    "Solution:\n",
    "\n",
    "The int(), float(), and str() functions will evaluate to the integer, floating-point number, and string versions of the value passed to them."
   ]
  },
  {
   "cell_type": "raw",
   "metadata": {},
   "source": [
    "10. Why does this expression cause an error? How can you fix it?\n",
    "'I have eaten ' + 99 + ' burritos.'\n",
    "\n",
    "\n",
    "Solution:\n",
    "\n",
    "The expression causes an error because 99 is an integer, and only strings can be concatenated to other strings with the + operator. The correct way is I have eaten ' + str(99) + ' burritos.'."
   ]
  }
 ],
 "metadata": {
  "kernelspec": {
   "display_name": "Python 3",
   "language": "python",
   "name": "python3"
  },
  "language_info": {
   "codemirror_mode": {
    "name": "ipython",
    "version": 3
   },
   "file_extension": ".py",
   "mimetype": "text/x-python",
   "name": "python",
   "nbconvert_exporter": "python",
   "pygments_lexer": "ipython3",
   "version": "3.8.5"
  }
 },
 "nbformat": 4,
 "nbformat_minor": 4
}
