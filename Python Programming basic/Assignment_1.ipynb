{
 "cells": [
  {
   "cell_type": "code",
   "execution_count": 1,
   "metadata": {},
   "outputs": [
    {
     "name": "stdout",
     "output_type": "stream",
     "text": [
      "Hello Python\n"
     ]
    }
   ],
   "source": [
    "# 1.Write a Python program to print \"Hello Python\"?\n",
    "print(\"Hello Python\")\n",
    "\n",
    "'''OUTPUT:\n",
    "Hello Python'''"
   ]
  },
  {
   "cell_type": "code",
   "execution_count": 3,
   "metadata": {},
   "outputs": [
    {
     "name": "stdout",
     "output_type": "stream",
     "text": [
      "25\n",
      "5\n",
      "Addition of a and b is: 30\n",
      "Divison of a and b is: 5.0\n"
     ]
    }
   ],
   "source": [
    "# 2.Write a Python program to do arithmetical operations addition and division.?\n",
    "a,b = int(input()), int(input())\n",
    "add = a + b\n",
    "print(\"Addition of a and b is:\",add)\n",
    "div = a / b\n",
    "print(\"Divison of a and b is:\",div)\n",
    "\n",
    "'''OUTPUT:\n",
    "25\n",
    "5\n",
    "Addition of a and b is: 30\n",
    "Divison of a and b is: 5.0'''"
   ]
  },
  {
   "cell_type": "code",
   "execution_count": 6,
   "metadata": {},
   "outputs": [
    {
     "name": "stdout",
     "output_type": "stream",
     "text": [
      "Enter breadth of triangle: 25\n",
      "Enter height of triangle: 6\n",
      "Area of triangle is: 75.0\n"
     ]
    }
   ],
   "source": [
    "# 3.Write a Python program to find the area of a triangle?\n",
    "b = int(input(\"Enter breadth of triangle: \"))\n",
    "h = int(input(\"Enter height of triangle: \"))\n",
    "area = b*h/2\n",
    "print(\"Area of triangle is:\",area)\n",
    "\n",
    "'''OUTPUT:\n",
    "Enter breadth of triangle: 25\n",
    "Enter height of triangle: 6\n",
    "Area of triangle is: 75.0'''"
   ]
  },
  {
   "cell_type": "code",
   "execution_count": 8,
   "metadata": {},
   "outputs": [
    {
     "name": "stdout",
     "output_type": "stream",
     "text": [
      "Enter value for x: 5\n",
      "Enter value for y: 6\n",
      "Value of x: 6\n",
      "Value of y: 5\n"
     ]
    }
   ],
   "source": [
    "# 4.Write a Python program to swap two variables?\n",
    "x = input(\"Enter value for x: \")\n",
    "y = input(\"Enter value for y: \")\n",
    "temp = x\n",
    "x = y\n",
    "y = temp\n",
    "print(\"Value of x:\",x)\n",
    "print(\"Value of y:\",y)\n",
    "\n",
    "'''OUTPUT:\n",
    "Enter value for x: 5\n",
    "Enter value for y: 6\n",
    "Value of x: 6\n",
    "Value of y: 5'''"
   ]
  },
  {
   "cell_type": "code",
   "execution_count": 13,
   "metadata": {},
   "outputs": [
    {
     "data": {
      "text/plain": [
       "20"
      ]
     },
     "execution_count": 13,
     "metadata": {},
     "output_type": "execute_result"
    }
   ],
   "source": [
    "# 5.Write a Python program to generate a random number?\n",
    "import random\n",
    "random.randint(0,100)\n",
    "\n",
    "'''OUTPUT:\n",
    "20'''"
   ]
  }
 ],
 "metadata": {
  "kernelspec": {
   "display_name": "Python 3",
   "language": "python",
   "name": "python3"
  },
  "language_info": {
   "codemirror_mode": {
    "name": "ipython",
    "version": 3
   },
   "file_extension": ".py",
   "mimetype": "text/x-python",
   "name": "python",
   "nbconvert_exporter": "python",
   "pygments_lexer": "ipython3",
   "version": "3.8.5"
  }
 },
 "nbformat": 4,
 "nbformat_minor": 4
}
